{
 "cells": [
  {
   "cell_type": "code",
   "execution_count": 2,
   "id": "7b1ec82b",
   "metadata": {},
   "outputs": [
    {
     "data": {
      "image/png": "[encoded data removed]",
      "text/plain": [
       "<Figure size 432x288 with 1 Axes>"
      ]
     },
     "metadata": {
      "needs_background": "light"
     },
     "output_type": "display_data"
    },
    {
     "name": "stdout",
     "output_type": "stream",
     "text": [
      "(5914000,)\n"
     ]
    }
   ],
   "source": [
    "#Reading signals \n",
    "\n",
    "from scipy import signal\n",
    "import matplotlib.pyplot as plot\n",
    "import numpy as np\n",
    "data=np.fromfile('a01.dat',dtype='byte')\n",
    "#file=open(\"x01.dat\",\"rb\")\n",
    "#data=file.read()\n",
    "plot.plot(data)\n",
    "\n",
    "plot.title('Unfiltered ECG Signal')\n",
    "plot.xlabel('Time')\n",
    "plot.ylabel('Amplitude')\n",
    "plot.show()\n",
    "\n",
    "print(data.shape)\n",
    "\n",
    "\n"
   ]
  },
  {
   "cell_type": "code",
   "execution_count": 83,
   "id": "7d5542b9",
   "metadata": {},
   "outputs": [
    {
     "data": {
      "image/png": "[encoded data removed]",
      "text/plain": [
       "<Figure size 432x288 with 1 Axes>"
      ]
     },
     "metadata": {
      "needs_background": "light"
     },
     "output_type": "display_data"
    },
    {
     "name": "stdout",
     "output_type": "stream",
     "text": [
      "(5914000,)\n"
     ]
    }
   ],
   "source": [
    "# Filtering \n",
    "\n",
    "filt= signal.butter(4,[0.5,100],'bp',output='sos',fs=300)\n",
    "filtered=signal.sosfilt(filt,data)\n",
    "plot.plot(filtered)\n",
    "plot.xlim(4000000,4001750)\n",
    "plot.ylim(-150,150)\n",
    "plot.title('Filtered ECG Signal')\n",
    "plot.xlabel('Time')\n",
    "plot.ylabel('Amplitude')\n",
    "plot.show()\n",
    "\n",
    "\n",
    "#filt= signal.butter(4,[0.5,150],'bp',output='sos',fs=350)\n",
    "#filtered=signal.sosfilt(filt,data)\n",
    "#plot.plot(filtered)\n",
    "#plot.xlim(4000000,4001750)\n",
    "#plot.ylim(-150,150)\n",
    "#plot.show()\n",
    "\n",
    "#filt= signal.butter(4,[0.05,100],'bp',output='sos',fs=250)\n",
    "#filtered=signal.sosfilt(filt,data)\n",
    "#plot.plot(filtered)\n",
    "#plot.xlim(4000000,4001750)\n",
    "#plot.ylim(-150,150)\n",
    "#plot.show()\n",
    "\n",
    "print(filtered.shape)"
   ]
  },
  {
   "cell_type": "code",
   "execution_count": 84,
   "id": "5670b854",
   "metadata": {},
   "outputs": [
    {
     "name": "stdout",
     "output_type": "stream",
     "text": [
      "59878\n",
      "29077\n"
     ]
    }
   ],
   "source": [
    "# RR-Interval calculation\n",
    "\n",
    "from scipy import signal\n",
    "import matplotlib.pyplot as plot\n",
    "import numpy as np\n",
    "qrs=np.fromfile('a01.qrs',dtype='byte')\n",
    "print(len(qrs))\n",
    "rr=[]\n",
    "for i in range(0,len(qrs)):\n",
    "    if(qrs[i]>40):\n",
    "        rr.append(qrs[i])\n",
    "rr=np.array(rr,'float32')\n",
    "print(len(rr))"
   ]
  },
  {
   "cell_type": "code",
   "execution_count": 85,
   "id": "aae090c4",
   "metadata": {},
   "outputs": [
    {
     "name": "stdout",
     "output_type": "stream",
     "text": [
      "72944\n",
      "0\n",
      "-20\n",
      "0\n",
      "0\n",
      "57\n",
      "-16\n",
      "0\n",
      "64\n",
      "-43\n",
      "65\n",
      "-67\n",
      "67\n",
      "-81\n",
      "4\n",
      "85\n",
      "4\n",
      "76\n",
      "4\n",
      "76\n",
      "4\n",
      "77\n",
      "4\n",
      "77\n",
      "4\n",
      "80\n",
      "36292\n"
     ]
    }
   ],
   "source": [
    "# RR - Interval calculation\n",
    "\n",
    "qrs2=np.fromfile('x01.qrs',dtype='byte')\n",
    "print(len(qrs2))\n",
    "for j in range(0,25):\n",
    "    print(qrs2[j])\n",
    "rr2=[]\n",
    "for i in range(0,len(qrs2)):\n",
    "    if(qrs2[i]>40):\n",
    "        rr2.append(qrs2[i])\n",
    "rr2=np.array(rr2,'float32')\n",
    "print(len(rr2))"
   ]
  },
  {
   "cell_type": "code",
   "execution_count": 86,
   "id": "da606439",
   "metadata": {},
   "outputs": [],
   "source": [
    "import tensorflow as tensorflow\n",
    "from tensorflow import keras\n",
    "from tensorflow.keras.layers import Conv1D,BatchNormalization,Activation,MaxPool1D,Dropout,Flatten,Dense\n",
    "#Feature Extraction layer\n",
    "flayer = tensorflow.keras.models.Sequential()\n",
    "flayer.add(Conv1D(filters=45,kernel_size=32,padding='same',kernel_initializer='he_normal'))\n",
    "flayer.add(BatchNormalization())\n",
    "flayer.add(Activation('relu'))\n",
    "#flayer.add(MaxPool1D(pool_size=2,strides=2))\n",
    "flayer.add(Dropout(rate=0.5))"
   ]
  },
  {
   "cell_type": "code",
   "execution_count": 87,
   "id": "2716c9f1",
   "metadata": {},
   "outputs": [],
   "source": [
    "#Building Feature Extraction Layers 2-10\n",
    "for j in range(1,10):\n",
    "    flayer.add(Conv1D(filters=45,kernel_size=32,padding='same',kernel_initializer='he_normal'))\n",
    "    flayer.add(BatchNormalization())\n",
    "    flayer.add(Activation('relu'))\n",
    "   # flayer.add(MaxPool1D(pool_size=2,strides=2))\n",
    "    flayer.add(Dropout(rate=0.5))\n",
    "\n",
    "    "
   ]
  },
  {
   "cell_type": "code",
   "execution_count": 88,
   "id": "45f56f98",
   "metadata": {},
   "outputs": [],
   "source": [
    "#Flattened Layer to convert 2D feature matrix into a 1D feature vector\n",
    "flayer.add(Flatten())"
   ]
  },
  {
   "cell_type": "code",
   "execution_count": 89,
   "id": "c44686d5",
   "metadata": {},
   "outputs": [],
   "source": [
    "#Classification Layers\n",
    "\n",
    "for i in range(0,4):\n",
    "    flayer.add(Dense(units=512,kernel_initializer='he_normal'))\n",
    "    flayer.add(BatchNormalization())\n",
    "    flayer.add(Activation('relu'))\n",
    "    flayer.add(Dropout(rate=0.5))\n",
    "    "
   ]
  },
  {
   "cell_type": "code",
   "execution_count": 90,
   "id": "e074241b",
   "metadata": {},
   "outputs": [],
   "source": [
    "#Final Softmax Layer\n",
    "\n",
    "flayer.add(Dense(units=1))\n",
    "flayer.add(Activation('softmax'))"
   ]
  },
  {
   "cell_type": "code",
   "execution_count": 91,
   "id": "e7d2b874",
   "metadata": {},
   "outputs": [],
   "source": [
    "# CNN model summary\n",
    "\n",
    "#flayer.compile(optimizer='adam')\n",
    "#flayer.build((None,6000,1))\n",
    "#flayer.summary()"
   ]
  },
  {
   "cell_type": "code",
   "execution_count": 92,
   "id": "e936c38b",
   "metadata": {},
   "outputs": [
    {
     "name": "stdout",
     "output_type": "stream",
     "text": [
      "3908\n",
      "[ 0  4  0 ... 32  0  0]\n",
      "489\n"
     ]
    }
   ],
   "source": [
    "#Processing dataset output\n",
    "\n",
    "ann = np.fromfile('a01.apn',dtype='uint8')\n",
    "print(len(ann))\n",
    "print(ann)\n",
    "y=[]\n",
    "for i in range(0,len(ann)):\n",
    "    if((ann[i]==32)|(ann[i]==4)):\n",
    "        y.append(ann[i])\n",
    "        \n",
    "y=np.array(y,'uint32')\n",
    "print(len(y))\n"
   ]
  },
  {
   "cell_type": "code",
   "execution_count": 93,
   "id": "6c0a1f3b",
   "metadata": {},
   "outputs": [
    {
     "name": "stdout",
     "output_type": "stream",
     "text": [
      "3748\n",
      "[ 0  4  0 ... 32  0  0]\n",
      "489\n"
     ]
    }
   ],
   "source": [
    "#Processing dataset output\n",
    "\n",
    "ann2 = np.fromfile('x02.apn',dtype='uint8')\n",
    "print(len(ann2))\n",
    "print(ann2)\n",
    "y2=[]\n",
    "for i in range(0,len(ann2)):\n",
    "    if((ann2[i]==32)|(ann2[i]==4)):\n",
    "        y2.append(ann2[i])\n",
    "        \n",
    "y2=np.array(y,'uint32')\n",
    "print(len(y2))"
   ]
  },
  {
   "cell_type": "code",
   "execution_count": 94,
   "id": "67a3cf40",
   "metadata": {},
   "outputs": [
    {
     "name": "stdout",
     "output_type": "stream",
     "text": [
      "29077\n",
      "29340\n"
     ]
    }
   ],
   "source": [
    "#Reshaping the features data\n",
    "\n",
    "rr_l=60*len(y)\n",
    "print(len(rr))\n",
    "for i in range(len(rr),rr_l):\n",
    "    rr=np.append(rr,4)\n",
    "print(len(rr))"
   ]
  },
  {
   "cell_type": "code",
   "execution_count": 95,
   "id": "d843b2e3",
   "metadata": {},
   "outputs": [
    {
     "name": "stdout",
     "output_type": "stream",
     "text": [
      "29340\n"
     ]
    }
   ],
   "source": [
    "#Reshaping the features data\n",
    "\n",
    "rr_l2=60*len(y2)\n",
    "if(rr_l2>=len(rr2)):\n",
    "    for i in range(len(rr2),rr_l2):\n",
    "        rr2=np.append(rr2,4)\n",
    "else:\n",
    "    rr2=np.delete(rr2,range(rr_l2,len(rr2)))\n",
    "    \n",
    "        \n",
    "print(len(rr2))"
   ]
  },
  {
   "cell_type": "code",
   "execution_count": 96,
   "id": "08dacba4",
   "metadata": {},
   "outputs": [
    {
     "name": "stdout",
     "output_type": "stream",
     "text": [
      "(489, 60)\n",
      "(489, 60, 1)\n"
     ]
    }
   ],
   "source": [
    "#Training the CNN model\n",
    "\n",
    "rr=np.reshape(rr,(len(y),-1))\n",
    "print(rr.shape)\n",
    "rr=np.reshape(rr,(rr.shape[0],rr.shape[1],1))\n",
    "print(rr.shape)\n",
    "y=np.reshape(y,(len(y),-1))\n",
    "#y=np.reshape(y,(y.shape[0],y.shape[1],1))"
   ]
  },
  {
   "cell_type": "code",
   "execution_count": 97,
   "id": "56299449",
   "metadata": {},
   "outputs": [
    {
     "name": "stdout",
     "output_type": "stream",
     "text": [
      "(489, 60)\n",
      "(489, 60, 1)\n"
     ]
    }
   ],
   "source": [
    "#Training the CNN model\n",
    "\n",
    "rr2=np.reshape(rr2,(len(y2),-1))\n",
    "print(rr2.shape)\n",
    "rr2=np.reshape(rr2,(rr2.shape[0],rr2.shape[1],1))\n",
    "print(rr2.shape)\n",
    "y2=np.reshape(y2,(len(y2),-1))"
   ]
  },
  {
   "cell_type": "code",
   "execution_count": 98,
   "id": "444d7e6c",
   "metadata": {},
   "outputs": [
    {
     "name": "stdout",
     "output_type": "stream",
     "text": [
      "Model: \"sequential_3\"\n",
      "_________________________________________________________________\n",
      "Layer (type)                 Output Shape              Param #   \n",
      "=================================================================\n",
      "conv1d_30 (Conv1D)           (489, 60, 45)             1485      \n",
      "_________________________________________________________________\n",
      "batch_normalization_42 (Batc (489, 60, 45)             180       \n",
      "_________________________________________________________________\n",
      "activation_45 (Activation)   (489, 60, 45)             0         \n",
      "_________________________________________________________________\n",
      "dropout_42 (Dropout)         (489, 60, 45)             0         \n",
      "_________________________________________________________________\n",
      "conv1d_31 (Conv1D)           (489, 60, 45)             64845     \n",
      "_________________________________________________________________\n",
      "batch_normalization_43 (Batc (489, 60, 45)             180       \n",
      "_________________________________________________________________\n",
      "activation_46 (Activation)   (489, 60, 45)             0         \n",
      "_________________________________________________________________\n",
      "dropout_43 (Dropout)         (489, 60, 45)             0         \n",
      "_________________________________________________________________\n",
      "conv1d_32 (Conv1D)           (489, 60, 45)             64845     \n",
      "_________________________________________________________________\n",
      "batch_normalization_44 (Batc (489, 60, 45)             180       \n",
      "_________________________________________________________________\n",
      "activation_47 (Activation)   (489, 60, 45)             0         \n",
      "_________________________________________________________________\n",
      "dropout_44 (Dropout)         (489, 60, 45)             0         \n",
      "_________________________________________________________________\n",
      "conv1d_33 (Conv1D)           (489, 60, 45)             64845     \n",
      "_________________________________________________________________\n",
      "batch_normalization_45 (Batc (489, 60, 45)             180       \n",
      "_________________________________________________________________\n",
      "activation_48 (Activation)   (489, 60, 45)             0         \n",
      "_________________________________________________________________\n",
      "dropout_45 (Dropout)         (489, 60, 45)             0         \n",
      "_________________________________________________________________\n",
      "conv1d_34 (Conv1D)           (489, 60, 45)             64845     \n",
      "_________________________________________________________________\n",
      "batch_normalization_46 (Batc (489, 60, 45)             180       \n",
      "_________________________________________________________________\n",
      "activation_49 (Activation)   (489, 60, 45)             0         \n",
      "_________________________________________________________________\n",
      "dropout_46 (Dropout)         (489, 60, 45)             0         \n",
      "_________________________________________________________________\n",
      "conv1d_35 (Conv1D)           (489, 60, 45)             64845     \n",
      "_________________________________________________________________\n",
      "batch_normalization_47 (Batc (489, 60, 45)             180       \n",
      "_________________________________________________________________\n",
      "activation_50 (Activation)   (489, 60, 45)             0         \n",
      "_________________________________________________________________\n",
      "dropout_47 (Dropout)         (489, 60, 45)             0         \n",
      "_________________________________________________________________\n",
      "conv1d_36 (Conv1D)           (489, 60, 45)             64845     \n",
      "_________________________________________________________________\n",
      "batch_normalization_48 (Batc (489, 60, 45)             180       \n",
      "_________________________________________________________________\n",
      "activation_51 (Activation)   (489, 60, 45)             0         \n",
      "_________________________________________________________________\n",
      "dropout_48 (Dropout)         (489, 60, 45)             0         \n",
      "_________________________________________________________________\n",
      "conv1d_37 (Conv1D)           (489, 60, 45)             64845     \n",
      "_________________________________________________________________\n",
      "batch_normalization_49 (Batc (489, 60, 45)             180       \n",
      "_________________________________________________________________\n",
      "activation_52 (Activation)   (489, 60, 45)             0         \n",
      "_________________________________________________________________\n",
      "dropout_49 (Dropout)         (489, 60, 45)             0         \n",
      "_________________________________________________________________\n",
      "conv1d_38 (Conv1D)           (489, 60, 45)             64845     \n",
      "_________________________________________________________________\n",
      "batch_normalization_50 (Batc (489, 60, 45)             180       \n",
      "_________________________________________________________________\n",
      "activation_53 (Activation)   (489, 60, 45)             0         \n",
      "_________________________________________________________________\n",
      "dropout_50 (Dropout)         (489, 60, 45)             0         \n",
      "_________________________________________________________________\n",
      "conv1d_39 (Conv1D)           (489, 60, 45)             64845     \n",
      "_________________________________________________________________\n",
      "batch_normalization_51 (Batc (489, 60, 45)             180       \n",
      "_________________________________________________________________\n",
      "activation_54 (Activation)   (489, 60, 45)             0         \n",
      "_________________________________________________________________\n",
      "dropout_51 (Dropout)         (489, 60, 45)             0         \n",
      "_________________________________________________________________\n",
      "flatten_3 (Flatten)          (489, 2700)               0         \n",
      "_________________________________________________________________\n",
      "dense_15 (Dense)             (489, 512)                1382912   \n",
      "_________________________________________________________________\n",
      "batch_normalization_52 (Batc (489, 512)                2048      \n",
      "_________________________________________________________________\n",
      "activation_55 (Activation)   (489, 512)                0         \n",
      "_________________________________________________________________\n",
      "dropout_52 (Dropout)         (489, 512)                0         \n",
      "_________________________________________________________________\n",
      "dense_16 (Dense)             (489, 512)                262656    \n",
      "_________________________________________________________________\n",
      "batch_normalization_53 (Batc (489, 512)                2048      \n",
      "_________________________________________________________________\n",
      "activation_56 (Activation)   (489, 512)                0         \n",
      "_________________________________________________________________\n",
      "dropout_53 (Dropout)         (489, 512)                0         \n",
      "_________________________________________________________________\n",
      "dense_17 (Dense)             (489, 512)                262656    \n",
      "_________________________________________________________________\n",
      "batch_normalization_54 (Batc (489, 512)                2048      \n",
      "_________________________________________________________________\n",
      "activation_57 (Activation)   (489, 512)                0         \n",
      "_________________________________________________________________\n",
      "dropout_54 (Dropout)         (489, 512)                0         \n",
      "_________________________________________________________________\n",
      "dense_18 (Dense)             (489, 512)                262656    \n",
      "_________________________________________________________________\n",
      "batch_normalization_55 (Batc (489, 512)                2048      \n",
      "_________________________________________________________________\n",
      "activation_58 (Activation)   (489, 512)                0         \n",
      "_________________________________________________________________\n",
      "dropout_55 (Dropout)         (489, 512)                0         \n",
      "_________________________________________________________________\n",
      "dense_19 (Dense)             (489, 1)                  513       \n",
      "_________________________________________________________________\n",
      "activation_59 (Activation)   (489, 1)                  0         \n",
      "=================================================================\n",
      "Total params: 2,766,475\n",
      "Trainable params: 2,761,479\n",
      "Non-trainable params: 4,996\n",
      "_________________________________________________________________\n"
     ]
    }
   ],
   "source": [
    "# CNN model summary\n",
    "\n",
    "flayer.compile(optimizer='adam',loss='mse',metrics=['accuracy'])\n",
    "flayer.build(rr.shape)\n",
    "flayer.summary()"
   ]
  },
  {
   "cell_type": "code",
   "execution_count": 99,
   "id": "0558c658",
   "metadata": {},
   "outputs": [
    {
     "data": {
      "text/plain": [
       "[924.01025390625, 0.0]"
      ]
     },
     "execution_count": 99,
     "metadata": {},
     "output_type": "execute_result"
    }
   ],
   "source": [
    "#Training the CNN model\n",
    "\n",
    "flayer.train_on_batch(rr,y)"
   ]
  },
  {
   "cell_type": "code",
   "execution_count": 100,
   "id": "a0c16ddc",
   "metadata": {},
   "outputs": [],
   "source": [
    "#Testing the CNN model\n",
    "\n",
    "y_pred=flayer.predict_on_batch(rr2)"
   ]
  },
  {
   "cell_type": "code",
   "execution_count": 101,
   "id": "e53b8281",
   "metadata": {
    "scrolled": false
   },
   "outputs": [
    {
     "name": "stdout",
     "output_type": "stream",
     "text": [
      "16/16 [==============================] - 11s 690ms/step - loss: 924.0103 - accuracy: 0.0000e+00\n"
     ]
    },
    {
     "data": {
      "text/plain": [
       "[924.01025390625, 0.0]"
      ]
     },
     "execution_count": 101,
     "metadata": {},
     "output_type": "execute_result"
    }
   ],
   "source": [
    "#Calculating performance\n",
    "\n",
    "flayer.evaluate(rr2,y2)"
   ]
  },
  {
   "cell_type": "code",
   "execution_count": null,
   "id": "a84efaa8",
   "metadata": {},
   "outputs": [],
   "source": []
  },
  {
   "cell_type": "code",
   "execution_count": 13,
   "id": "2be80e23",
   "metadata": {},
   "outputs": [],
   "source": [
    "#SVM model\n",
    "\n",
    "from sklearn import svm\n",
    "\n",
    "clf=svm.SVC(kernel='poly')\n"
   ]
  },
  {
   "cell_type": "code",
   "execution_count": 6,
   "id": "4421ea4d",
   "metadata": {},
   "outputs": [
    {
     "name": "stdout",
     "output_type": "stream",
     "text": [
      "(5, 28800)\n"
     ]
    }
   ],
   "source": [
    "#Feature Extraction for training data\n",
    "\n",
    "# RR - Interval calculation\n",
    "\n",
    "qrs=np.fromfile('a01.qrs',dtype='byte')\n",
    "x_train=[]\n",
    "rr=[]\n",
    "for i in range(0,len(qrs)):\n",
    "    if(qrs[i]>40):\n",
    "        rr.append(qrs[i])\n",
    "rr_l2=60*480\n",
    "if(rr_l2>=len(rr)):\n",
    "    for j in range(len(rr),rr_l2):\n",
    "        rr=np.append(rr,4)\n",
    "else:\n",
    "    rr=np.delete(rr,range(rr_l2,len(rr)))\n",
    "        \n",
    "rr=np.array(rr,'float32')\n",
    "x_train.append(rr)\n",
    "\n",
    "qrs=np.fromfile('a02.qrs',dtype='byte')\n",
    "rr=[]\n",
    "for i in range(0,len(qrs)):\n",
    "    if(qrs[i]>40):\n",
    "        rr.append(qrs[i])\n",
    "rr_l2=60*480\n",
    "if(rr_l2>=len(rr)):\n",
    "    for j in range(len(rr),rr_l2):\n",
    "        rr=np.append(rr,4)\n",
    "else:\n",
    "    rr=np.delete(rr,range(rr_l2,len(rr)))\n",
    "        \n",
    "rr=np.array(rr,'float32')\n",
    "x_train.append(rr)\n",
    "\n",
    "qrs=np.fromfile('b01.qrs',dtype='byte')\n",
    "rr=[]\n",
    "for i in range(0,len(qrs)):\n",
    "    if(qrs[i]>40):\n",
    "        rr.append(qrs[i])\n",
    "rr_l2=60*480\n",
    "if(rr_l2>=len(rr)):\n",
    "    for j in range(len(rr),rr_l2):\n",
    "        rr=np.append(rr,4)\n",
    "else:\n",
    "    rr=np.delete(rr,range(rr_l2,len(rr)))\n",
    "        \n",
    "rr=np.array(rr,'float32')\n",
    "x_train.append(rr)\n",
    "\n",
    "qrs=np.fromfile('b02.qrs',dtype='byte')\n",
    "rr=[]\n",
    "for i in range(0,len(qrs)):\n",
    "    if(qrs[i]>40):\n",
    "        rr.append(qrs[i])\n",
    "rr_l2=60*480\n",
    "if(rr_l2>=len(rr)):\n",
    "    for j in range(len(rr),rr_l2):\n",
    "        rr=np.append(rr,4)\n",
    "else:\n",
    "    rr=np.delete(rr,range(rr_l2,len(rr)))\n",
    "        \n",
    "rr=np.array(rr,'float32')\n",
    "x_train.append(rr)\n",
    "\n",
    "qrs=np.fromfile('c01.qrs',dtype='byte')\n",
    "rr=[]\n",
    "for i in range(0,len(qrs)):\n",
    "    if(qrs[i]>40):\n",
    "        rr.append(qrs[i])\n",
    "rr_l2=60*480\n",
    "if(rr_l2>=len(rr)):\n",
    "    for j in range(len(rr),rr_l2):\n",
    "        rr=np.append(rr,4)\n",
    "else:\n",
    "    rr=np.delete(rr,range(rr_l2,len(rr)))\n",
    "        \n",
    "rr=np.array(rr,'float32')\n",
    "x_train.append(rr)\n",
    "\n",
    "print(np.shape(x_train))"
   ]
  },
  {
   "cell_type": "code",
   "execution_count": 7,
   "id": "c3b6cecf",
   "metadata": {},
   "outputs": [
    {
     "name": "stdout",
     "output_type": "stream",
     "text": [
      "[1, 1, 0, 0, 0]\n"
     ]
    }
   ],
   "source": [
    "#Processing training dataset output\n",
    "y_train=[]\n",
    "ann = np.fromfile('a01.apn',dtype='byte')\n",
    "out=[]\n",
    "for i in range(0,480*8):\n",
    "    if((ann[i]==32)|(ann[i]==4)):\n",
    "        out.append(ann[i])\n",
    "count=0\n",
    "for j in range(0,len(out)):\n",
    "    if(out[j]==32):\n",
    "        count+=1\n",
    "if(count>120):        \n",
    "    y_train.append(1)\n",
    "else:\n",
    "    y_train.append(0)\n",
    "\n",
    "ann = np.fromfile('a02.apn',dtype='byte')\n",
    "out=[]\n",
    "for i in range(0,480*8):\n",
    "    if((ann[i]==32)|(ann[i]==4)):\n",
    "        out.append(ann[i])\n",
    "count=0\n",
    "for j in range(0,len(out)):\n",
    "    if(out[j]==32):\n",
    "        count+=1\n",
    "if(count>120):        \n",
    "    y_train.append(1)\n",
    "else:\n",
    "    y_train.append(0)\n",
    "\n",
    "ann = np.fromfile('b01.apn',dtype='byte')\n",
    "out=[]\n",
    "for i in range(0,480*8):\n",
    "    if((ann[i]==32)|(ann[i]==4)):\n",
    "        out.append(ann[i])\n",
    "count=0\n",
    "for j in range(0,len(out)):\n",
    "    if(out[j]==32):\n",
    "        count+=1\n",
    "if(count>120):        \n",
    "    y_train.append(1)\n",
    "else:\n",
    "    y_train.append(0)\n",
    "\n",
    "ann = np.fromfile('b02.apn',dtype='byte')\n",
    "out=[]\n",
    "for i in range(0,480*8):\n",
    "    if((ann[i]==32)|(ann[i]==4)):\n",
    "        out.append(ann[i])\n",
    "count=0\n",
    "for j in range(0,len(out)):\n",
    "    if(out[j]==32):\n",
    "        count+=1\n",
    "if(count>120):        \n",
    "    y_train.append(1)\n",
    "else:\n",
    "    y_train.append(0)\n",
    "\n",
    "ann = np.fromfile('c01.apn',dtype='byte')\n",
    "out=[]\n",
    "for i in range(0,480*8):\n",
    "    if((ann[i]==32)|(ann[i]==4)):\n",
    "        out.append(ann[i])\n",
    "count=0\n",
    "for j in range(0,len(out)):\n",
    "    if(out[j]==32):\n",
    "        count+=1\n",
    "if(count>120):        \n",
    "    y_train.append(1)\n",
    "else:\n",
    "    y_train.append(0)\n",
    "\n",
    "\n",
    "\n",
    "print(y_train)\n"
   ]
  },
  {
   "cell_type": "code",
   "execution_count": 14,
   "id": "24e35f23",
   "metadata": {},
   "outputs": [
    {
     "data": {
      "text/plain": [
       "SVC(kernel='poly')"
      ]
     },
     "execution_count": 14,
     "metadata": {},
     "output_type": "execute_result"
    }
   ],
   "source": [
    "#Training the model\n",
    "clf.fit(x_train,y_train)"
   ]
  },
  {
   "cell_type": "code",
   "execution_count": 9,
   "id": "8bee0b2d",
   "metadata": {},
   "outputs": [],
   "source": [
    "#Feature extraction for testing data \n",
    "\n",
    "x_test=[]\n",
    "for i in range(1,6):\n",
    "    qrs=np.fromfile('x0'+str(i)+'.qrs',dtype='byte')\n",
    "    rr=[]\n",
    "    for i in range(0,len(qrs)):\n",
    "        if(qrs[i]>40):\n",
    "            rr.append(qrs[i])\n",
    "    rr_l2=60*480\n",
    "    if(rr_l2>=len(rr)):\n",
    "        for j in range(len(rr),rr_l2):\n",
    "            rr=np.append(rr,4)\n",
    "    else:\n",
    "        rr=np.delete(rr,range(rr_l2,len(rr)))\n",
    "        \n",
    "    rr=np.array(rr,'float32')\n",
    "    x_test.append(rr)\n",
    "\n",
    "    "
   ]
  },
  {
   "cell_type": "code",
   "execution_count": 10,
   "id": "b65304bd",
   "metadata": {},
   "outputs": [
    {
     "name": "stdout",
     "output_type": "stream",
     "text": [
      "4180\n",
      "3748\n",
      "3716\n",
      "3852\n",
      "4036\n",
      "[1, 1, 0, 0, 1]\n"
     ]
    }
   ],
   "source": [
    "#Processing testing-dataset output\n",
    "\n",
    "y_test=[]\n",
    "for k in range(1,6):\n",
    "    ann = np.fromfile('x0'+str(k)+'.apn',dtype='byte')\n",
    "    print(len(ann))\n",
    "    out=[]\n",
    "    for i in range(0,480*8):\n",
    "        if(i==len(ann)):\n",
    "            break\n",
    "        if((ann[i]==32)|(ann[i]==4)):\n",
    "            out.append(ann[i])\n",
    "    count=0\n",
    "    for j in range(0,len(out)):\n",
    "        if(out[j]==32):\n",
    "            count+=1\n",
    "    if(count>120):        \n",
    "        y_test.append(1)\n",
    "    else:\n",
    "        y_test.append(0)\n",
    "\n",
    "print(y_test)"
   ]
  },
  {
   "cell_type": "code",
   "execution_count": 15,
   "id": "0d40d302",
   "metadata": {},
   "outputs": [
    {
     "name": "stdout",
     "output_type": "stream",
     "text": [
      "[0 1 0 0 0]\n"
     ]
    }
   ],
   "source": [
    "#Predict the response for test dataset\n",
    "\n",
    "y_pred=clf.predict(x_test)\n",
    "print(y_pred)"
   ]
  },
  {
   "cell_type": "code",
   "execution_count": 16,
   "id": "2c238203",
   "metadata": {},
   "outputs": [
    {
     "name": "stdout",
     "output_type": "stream",
     "text": [
      "Accuracy : 0.6\n"
     ]
    }
   ],
   "source": [
    "#Performance of the model\n",
    "\n",
    "from sklearn import metrics\n",
    "print(\"Accuracy : \"+str(metrics.accuracy_score(y_test,y_pred)))\n",
    "\n"
   ]
  },
  {
   "cell_type": "code",
   "execution_count": null,
   "id": "eb244097",
   "metadata": {},
   "outputs": [],
   "source": []
  },
  {
   "cell_type": "code",
   "execution_count": null,
   "id": "e3660eb9",
   "metadata": {},
   "outputs": [],
   "source": []
  }
 ],
 "metadata": {
  "kernelspec": {
   "display_name": "Python 3",
   "language": "python",
   "name": "python3"
  },
  "language_info": {
   "codemirror_mode": {
    "name": "ipython",
    "version": 3
   },
   "file_extension": ".py",
   "mimetype": "text/x-python",
   "name": "python",
   "nbconvert_exporter": "python",
   "pygments_lexer": "ipython3",
   "version": "3.8.8"
  }
 },
 "nbformat": 4,
 "nbformat_minor": 5
}
